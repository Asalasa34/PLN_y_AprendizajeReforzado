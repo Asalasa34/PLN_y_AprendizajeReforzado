{
 "cells": [
  {
   "cell_type": "markdown",
   "id": "a2d144f5-0881-4f53-8b68-3ecfa94fc3ca",
   "metadata": {},
   "source": [
    "# Tarea 'Python'\n",
    "## Andrés Felipe Salas Ávila\n",
    "### Métodos intensivos de computación estadística"
   ]
  },
  {
   "cell_type": "markdown",
   "id": "c5bdc23d-609c-43ce-88a0-6fd2aa038af7",
   "metadata": {},
   "source": [
    "#### Punto 2\n",
    "\n",
    "Escriba un cuaderno que contenga dos ejercicios propuestos y resueltos de colecciones, en los cuales utilice los diferentes métodos asociados a cada tipo de colección.\n",
    "\n",
    "1. Defina un diccionario de al menos 4 llaves de tal manera que esas llaves sean tuplas. Acceda a cada elemento. ¿Puede hacer lo mismo para una llave que sea definida como lista o diccionario?"
   ]
  },
  {
   "cell_type": "code",
   "execution_count": 1,
   "id": "e8defb8f-3de7-4c0b-8cc9-6cf3886133b7",
   "metadata": {},
   "outputs": [],
   "source": [
    "Dicc =dict([( (4, 0, 4), 'Error'),\n",
    "            ( (1, 7, 10, 13), 'Números felices'),\n",
    "            ( (1, 2, 4, 8), 'Divisores de 8'),\n",
    "            ( ('Casa', 'House', 'Haus', 'Maison'), 'Casa')\n",
    "            ])"
   ]
  },
  {
   "cell_type": "code",
   "execution_count": 3,
   "id": "0d0a3e12-7edc-4546-a54f-4ee5bd1900cf",
   "metadata": {},
   "outputs": [
    {
     "name": "stdout",
     "output_type": "stream",
     "text": [
      "Error\n",
      "Números felices\n",
      "Divisores de 8\n",
      "Casa\n"
     ]
    }
   ],
   "source": [
    "print(Dicc[(4, 0, 4)])\n",
    "print(Dicc[(1, 7, 10, 13)])\n",
    "print(Dicc[(1, 2, 4, 8)])\n",
    "print(Dicc[('Casa', 'House', 'Haus', 'Maison')])"
   ]
  },
  {
   "cell_type": "markdown",
   "id": "2ef3fc5b-ce3f-4826-add3-56c0347e4f9b",
   "metadata": {},
   "source": [
    "En teoría, no se debería poder hacer esto mismo con listas o diccionarios, pues la facultad de las tuplas para poder ser llaves es que estas acaban definiendo un único elemento inmutable. Por otro lado, tanto las listas como los diccionarios se caracterizan por ser objetos que contienen algunos otros elementos, de modo que no cuentan con estas mismas características. No obstante, veamos qué ocurre si lo intentamos:"
   ]
  },
  {
   "cell_type": "code",
   "execution_count": 4,
   "id": "7ad106b3-6515-4871-86d1-8acce0445dec",
   "metadata": {},
   "outputs": [
    {
     "ename": "TypeError",
     "evalue": "unhashable type: 'list'",
     "output_type": "error",
     "traceback": [
      "\u001b[1;31m---------------------------------------------------------------------------\u001b[0m",
      "\u001b[1;31mTypeError\u001b[0m                                 Traceback (most recent call last)",
      "Input \u001b[1;32mIn [4]\u001b[0m, in \u001b[0;36m<cell line: 1>\u001b[1;34m()\u001b[0m\n\u001b[1;32m----> 1\u001b[0m DiccLista \u001b[38;5;241m=\u001b[39m \u001b[38;5;28;43mdict\u001b[39;49m\u001b[43m(\u001b[49m\u001b[43m[\u001b[49m\u001b[43m(\u001b[49m\u001b[43m \u001b[49m\u001b[43m[\u001b[49m\u001b[38;5;241;43m4\u001b[39;49m\u001b[43m,\u001b[49m\u001b[43m \u001b[49m\u001b[38;5;241;43m0\u001b[39;49m\u001b[43m,\u001b[49m\u001b[43m \u001b[49m\u001b[38;5;241;43m4\u001b[39;49m\u001b[43m]\u001b[49m\u001b[43m,\u001b[49m\u001b[43m \u001b[49m\u001b[38;5;124;43m'\u001b[39;49m\u001b[38;5;124;43mError\u001b[39;49m\u001b[38;5;124;43m'\u001b[39;49m\u001b[43m)\u001b[49m\u001b[43m,\u001b[49m\n\u001b[0;32m      2\u001b[0m \u001b[43m            \u001b[49m\u001b[43m(\u001b[49m\u001b[43m \u001b[49m\u001b[43m[\u001b[49m\u001b[38;5;241;43m1\u001b[39;49m\u001b[43m,\u001b[49m\u001b[43m \u001b[49m\u001b[38;5;241;43m7\u001b[39;49m\u001b[43m,\u001b[49m\u001b[43m \u001b[49m\u001b[38;5;241;43m10\u001b[39;49m\u001b[43m,\u001b[49m\u001b[43m \u001b[49m\u001b[38;5;241;43m13\u001b[39;49m\u001b[43m]\u001b[49m\u001b[43m,\u001b[49m\u001b[43m \u001b[49m\u001b[38;5;124;43m'\u001b[39;49m\u001b[38;5;124;43mNúmeros felices\u001b[39;49m\u001b[38;5;124;43m'\u001b[39;49m\u001b[43m)\u001b[49m\u001b[43m,\u001b[49m\n\u001b[0;32m      3\u001b[0m \u001b[43m            \u001b[49m\u001b[43m(\u001b[49m\u001b[43m \u001b[49m\u001b[43m[\u001b[49m\u001b[38;5;241;43m1\u001b[39;49m\u001b[43m,\u001b[49m\u001b[43m \u001b[49m\u001b[38;5;241;43m2\u001b[39;49m\u001b[43m,\u001b[49m\u001b[43m \u001b[49m\u001b[38;5;241;43m4\u001b[39;49m\u001b[43m,\u001b[49m\u001b[43m \u001b[49m\u001b[38;5;241;43m8\u001b[39;49m\u001b[43m]\u001b[49m\u001b[43m,\u001b[49m\u001b[43m \u001b[49m\u001b[38;5;124;43m'\u001b[39;49m\u001b[38;5;124;43mDivisores de 8\u001b[39;49m\u001b[38;5;124;43m'\u001b[39;49m\u001b[43m)\u001b[49m\u001b[43m,\u001b[49m\n\u001b[0;32m      4\u001b[0m \u001b[43m            \u001b[49m\u001b[43m(\u001b[49m\u001b[43m \u001b[49m\u001b[43m[\u001b[49m\u001b[38;5;124;43m'\u001b[39;49m\u001b[38;5;124;43mCasa\u001b[39;49m\u001b[38;5;124;43m'\u001b[39;49m\u001b[43m,\u001b[49m\u001b[43m \u001b[49m\u001b[38;5;124;43m'\u001b[39;49m\u001b[38;5;124;43mHouse\u001b[39;49m\u001b[38;5;124;43m'\u001b[39;49m\u001b[43m,\u001b[49m\u001b[43m \u001b[49m\u001b[38;5;124;43m'\u001b[39;49m\u001b[38;5;124;43mHaus\u001b[39;49m\u001b[38;5;124;43m'\u001b[39;49m\u001b[43m,\u001b[49m\u001b[43m \u001b[49m\u001b[38;5;124;43m'\u001b[39;49m\u001b[38;5;124;43mMaison\u001b[39;49m\u001b[38;5;124;43m'\u001b[39;49m\u001b[43m]\u001b[49m\u001b[43m,\u001b[49m\u001b[43m \u001b[49m\u001b[38;5;124;43m'\u001b[39;49m\u001b[38;5;124;43mCasa\u001b[39;49m\u001b[38;5;124;43m'\u001b[39;49m\u001b[43m)\u001b[49m\n\u001b[0;32m      5\u001b[0m \u001b[43m            \u001b[49m\u001b[43m]\u001b[49m\u001b[43m)\u001b[49m\n",
      "\u001b[1;31mTypeError\u001b[0m: unhashable type: 'list'"
     ]
    }
   ],
   "source": [
    "DiccLista = dict([( [4, 0, 4], 'Error'),\n",
    "            ( [1, 7, 10, 13], 'Números felices'),\n",
    "            ( [1, 2, 4, 8], 'Divisores de 8'),\n",
    "            ( ['Casa', 'House', 'Haus', 'Maison'], 'Casa')\n",
    "            ])"
   ]
  },
  {
   "cell_type": "code",
   "execution_count": 5,
   "id": "685bef1e-c1cf-4675-9718-04df64a8bc3e",
   "metadata": {},
   "outputs": [
    {
     "ename": "TypeError",
     "evalue": "unhashable type: 'dict'",
     "output_type": "error",
     "traceback": [
      "\u001b[1;31m---------------------------------------------------------------------------\u001b[0m",
      "\u001b[1;31mTypeError\u001b[0m                                 Traceback (most recent call last)",
      "Input \u001b[1;32mIn [5]\u001b[0m, in \u001b[0;36m<cell line: 15>\u001b[1;34m()\u001b[0m\n\u001b[0;32m     10\u001b[0m Dicc3 \u001b[38;5;241m=\u001b[39m \u001b[38;5;28mdict\u001b[39m([( \u001b[38;5;124m'\u001b[39m\u001b[38;5;124m1-0\u001b[39m\u001b[38;5;124m'\u001b[39m, \u001b[38;5;124m'\u001b[39m\u001b[38;5;124mGanar\u001b[39m\u001b[38;5;124m'\u001b[39m),\n\u001b[0;32m     11\u001b[0m         ( \u001b[38;5;124m'\u001b[39m\u001b[38;5;124m0-0\u001b[39m\u001b[38;5;124m'\u001b[39m, \u001b[38;5;124m'\u001b[39m\u001b[38;5;124mEmpatar\u001b[39m\u001b[38;5;124m'\u001b[39m),\n\u001b[0;32m     12\u001b[0m         ( \u001b[38;5;124m'\u001b[39m\u001b[38;5;124m0-1\u001b[39m\u001b[38;5;124m'\u001b[39m, \u001b[38;5;124m'\u001b[39m\u001b[38;5;124mPerder\u001b[39m\u001b[38;5;124m'\u001b[39m)\n\u001b[0;32m     13\u001b[0m         ])\n\u001b[0;32m     14\u001b[0m Dicc4 \u001b[38;5;241m=\u001b[39m Dicc\u001b[38;5;241m.\u001b[39mcopy()\n\u001b[1;32m---> 15\u001b[0m DiccDiccionario \u001b[38;5;241m=\u001b[39m \u001b[38;5;28;43mdict\u001b[39;49m\u001b[43m(\u001b[49m\u001b[43m[\u001b[49m\u001b[43m(\u001b[49m\u001b[43m \u001b[49m\u001b[43mDicc1\u001b[49m\u001b[43m,\u001b[49m\u001b[43m \u001b[49m\u001b[38;5;124;43m'\u001b[39;49m\u001b[38;5;124;43m1\u001b[39;49m\u001b[38;5;124;43m'\u001b[39;49m\u001b[43m)\u001b[49m\u001b[43m,\u001b[49m\n\u001b[0;32m     16\u001b[0m \u001b[43m                  \u001b[49m\u001b[43m(\u001b[49m\u001b[43m \u001b[49m\u001b[43mDicc2\u001b[49m\u001b[43m,\u001b[49m\u001b[43m \u001b[49m\u001b[38;5;124;43m'\u001b[39;49m\u001b[38;5;124;43m2\u001b[39;49m\u001b[38;5;124;43m'\u001b[39;49m\u001b[43m)\u001b[49m\u001b[43m,\u001b[49m\n\u001b[0;32m     17\u001b[0m \u001b[43m                  \u001b[49m\u001b[43m(\u001b[49m\u001b[43m \u001b[49m\u001b[43mDicc3\u001b[49m\u001b[43m,\u001b[49m\u001b[43m \u001b[49m\u001b[38;5;124;43m'\u001b[39;49m\u001b[38;5;124;43m3\u001b[39;49m\u001b[38;5;124;43m'\u001b[39;49m\u001b[43m)\u001b[49m\u001b[43m,\u001b[49m\n\u001b[0;32m     18\u001b[0m \u001b[43m                  \u001b[49m\u001b[43m(\u001b[49m\u001b[43m \u001b[49m\u001b[43mDicc4\u001b[49m\u001b[43m,\u001b[49m\u001b[43m \u001b[49m\u001b[38;5;124;43m'\u001b[39;49m\u001b[38;5;124;43m4\u001b[39;49m\u001b[38;5;124;43m'\u001b[39;49m\u001b[43m)\u001b[49m\n\u001b[0;32m     19\u001b[0m \u001b[43m                  \u001b[49m\u001b[43m]\u001b[49m\u001b[43m)\u001b[49m\n",
      "\u001b[1;31mTypeError\u001b[0m: unhashable type: 'dict'"
     ]
    }
   ],
   "source": [
    "Dicc1 = dict([( '5', 'Aprobado'),\n",
    "        ( '4', 'Aceptable'),\n",
    "        ( '3', 'Raspando'),\n",
    "        ( '1', 'Reprobado')\n",
    "        ])\n",
    "Dicc2 = dict([( 'Rafa', 'GOAT'),\n",
    "        ( 'Roger', 'Casi GOAT'),\n",
    "        ( 'Djokovic', 'Intento de GOAT')\n",
    "        ])\n",
    "Dicc3 = dict([( '1-0', 'Ganar'),\n",
    "        ( '0-0', 'Empatar'),\n",
    "        ( '0-1', 'Perder')\n",
    "        ])\n",
    "Dicc4 = Dicc.copy()\n",
    "DiccDiccionario = dict([( Dicc1, '1'),\n",
    "                  ( Dicc2, '2'),\n",
    "                  ( Dicc3, '3'),\n",
    "                  ( Dicc4, '4')\n",
    "                  ])"
   ]
  },
  {
   "cell_type": "markdown",
   "id": "3a76ec84-b349-4e20-af76-27ee9c8977a2",
   "metadata": {},
   "source": [
    "Note entonces que aquí aparece el concepto de una colección 'unhashable', lo cual quiere decir que el objeto en cuestión no puede ser transformado en un código estandarizado que pueda ser utilizado como una llave. Ahora bien, como ejercicio adicional, veamos que pasa si intentamos esto mismo con conjuntos."
   ]
  },
  {
   "cell_type": "code",
   "execution_count": 6,
   "id": "9b1dcdf1-e1ba-4d2e-a369-ae4ffe0dbe4b",
   "metadata": {},
   "outputs": [
    {
     "ename": "TypeError",
     "evalue": "unhashable type: 'set'",
     "output_type": "error",
     "traceback": [
      "\u001b[1;31m---------------------------------------------------------------------------\u001b[0m",
      "\u001b[1;31mTypeError\u001b[0m                                 Traceback (most recent call last)",
      "Input \u001b[1;32mIn [6]\u001b[0m, in \u001b[0;36m<cell line: 6>\u001b[1;34m()\u001b[0m\n\u001b[0;32m      3\u001b[0m Cumpleanios \u001b[38;5;241m=\u001b[39m {\u001b[38;5;124m'\u001b[39m\u001b[38;5;124m7Dic\u001b[39m\u001b[38;5;124m'\u001b[39m, \u001b[38;5;124m'\u001b[39m\u001b[38;5;124m11Dic\u001b[39m\u001b[38;5;124m'\u001b[39m, \u001b[38;5;124m'\u001b[39m\u001b[38;5;124m23Jul\u001b[39m\u001b[38;5;124m'\u001b[39m}\n\u001b[0;32m      4\u001b[0m Idiomas \u001b[38;5;241m=\u001b[39m {\u001b[38;5;124m'\u001b[39m\u001b[38;5;124mAlemán\u001b[39m\u001b[38;5;124m'\u001b[39m, \u001b[38;5;124m'\u001b[39m\u001b[38;5;124mItaliano\u001b[39m\u001b[38;5;124m'\u001b[39m, \u001b[38;5;124m'\u001b[39m\u001b[38;5;124mPortugués\u001b[39m\u001b[38;5;124m'\u001b[39m}\n\u001b[1;32m----> 6\u001b[0m DiccConjuntos \u001b[38;5;241m=\u001b[39m \u001b[38;5;28;43mdict\u001b[39;49m\u001b[43m(\u001b[49m\u001b[43m[\u001b[49m\u001b[43m(\u001b[49m\u001b[43m \u001b[49m\u001b[43mAmigxs\u001b[49m\u001b[43m,\u001b[49m\u001b[43m \u001b[49m\u001b[38;5;124;43m'\u001b[39;49m\u001b[38;5;124;43mAlmuerzos\u001b[39;49m\u001b[38;5;124;43m'\u001b[39;49m\u001b[43m)\u001b[49m\u001b[43m,\u001b[49m\n\u001b[0;32m      7\u001b[0m \u001b[43m                \u001b[49m\u001b[43m(\u001b[49m\u001b[43m \u001b[49m\u001b[43mApodos\u001b[49m\u001b[43m,\u001b[49m\u001b[43m \u001b[49m\u001b[38;5;124;43m'\u001b[39;49m\u001b[38;5;124;43mCarinio\u001b[39;49m\u001b[38;5;124;43m'\u001b[39;49m\u001b[43m)\u001b[49m\u001b[43m,\u001b[49m\n\u001b[0;32m      8\u001b[0m \u001b[43m                \u001b[49m\u001b[43m(\u001b[49m\u001b[43m \u001b[49m\u001b[43mCumpleanios\u001b[49m\u001b[43m,\u001b[49m\u001b[43m \u001b[49m\u001b[38;5;124;43m'\u001b[39;49m\u001b[38;5;124;43mFiesta\u001b[39;49m\u001b[38;5;124;43m'\u001b[39;49m\u001b[43m)\u001b[49m\u001b[43m,\u001b[49m\n\u001b[0;32m      9\u001b[0m \u001b[43m                \u001b[49m\u001b[43m(\u001b[49m\u001b[43m \u001b[49m\u001b[43mIdiomas\u001b[49m\u001b[43m,\u001b[49m\u001b[43m \u001b[49m\u001b[38;5;124;43m'\u001b[39;49m\u001b[38;5;124;43mIntercambio\u001b[39;49m\u001b[38;5;124;43m'\u001b[39;49m\u001b[43m)\u001b[49m\n\u001b[0;32m     10\u001b[0m \u001b[43m                \u001b[49m\u001b[43m]\u001b[49m\u001b[43m)\u001b[49m\n",
      "\u001b[1;31mTypeError\u001b[0m: unhashable type: 'set'"
     ]
    }
   ],
   "source": [
    "Amigxs = {'Emmanuel','Daniela', 'Santiago'}\n",
    "Apodos = {'Emma', 'Nani', 'Thiago'}\n",
    "Cumpleanios = {'7Dic', '11Dic', '23Jul'}\n",
    "Idiomas = {'Alemán', 'Italiano', 'Portugués'}\n",
    "\n",
    "DiccConjuntos = dict([( Amigxs, 'Almuerzos'),\n",
    "                ( Apodos, 'Carinio'),\n",
    "                ( Cumpleanios, 'Fiesta'),\n",
    "                ( Idiomas, 'Intercambio')\n",
    "                ])"
   ]
  },
  {
   "cell_type": "markdown",
   "id": "38f8ded5-364d-4ce6-8363-8935c5c6e61c",
   "metadata": {},
   "source": [
    "Así, vemos que contamos con el mismo problema.\n",
    "\n",
    "2. Entienda lo que hace cada uno de los siguientes métodos para diccionarios y cree su propio ejemplo.\n",
    "\n",
    "    * dict.keys()\n",
    "    * dict.values()\n",
    "    * dict.pop()\n",
    "    * dict.popitem()\n",
    "    * dict.update(____)\n",
    "\n",
    "Para decir qué hace cada método, veamos e interpretemos sus salidas. No obstante, antes suponga que los Grupos de Estudio Autónomo (GEA), de la Dirección Académica, cuenta con un/una tutor@ representante por cada área de Ciencias. Así, por alguna razón est@s se encuentran dispuestos en un diccionario y cada un@ tiene como clave su área de acompañamiento."
   ]
  },
  {
   "cell_type": "code",
   "execution_count": 13,
   "id": "36d32be1-d2e4-4660-ab4d-2906f26cc7ef",
   "metadata": {},
   "outputs": [],
   "source": [
    "DictGEA = dict([( 'Estadística', 'Andrés Salas'),\n",
    "          ( 'Química', 'Camila Flórez'),\n",
    "          ( 'Modelación Estática y Dinámica', 'Daniel Murillo'),\n",
    "          ( 'Matemáticas', 'Paulina Castillo'),\n",
    "          ( 'Física', 'Jean Pierre Cifuentes')\n",
    "          ])"
   ]
  },
  {
   "cell_type": "markdown",
   "id": "6ecd441f-2383-48a2-9f57-5ecce43c1a47",
   "metadata": {},
   "source": [
    "Así, imaginemos las siguientes situaciones:\n",
    "\n",
    "##### Queremos conocer las áreas de ciencias que se acompañan en GEA.\n",
    "\n",
    "Vemos entonces que esta información coincide con extraer las llaves del diccionario, de modo que podemos usar el siguiente comando:"
   ]
  },
  {
   "cell_type": "code",
   "execution_count": 14,
   "id": "a3050b57-f80c-47dd-9390-1243d5fe5fa6",
   "metadata": {},
   "outputs": [
    {
     "name": "stdout",
     "output_type": "stream",
     "text": [
      "dict_keys(['Estadística', 'Química', 'Modelación Estática y Dinámica', 'Matemáticas', 'Física'])\n"
     ]
    }
   ],
   "source": [
    "print(DictGEA.keys())"
   ]
  },
  {
   "cell_type": "markdown",
   "id": "53d5c87c-b39f-4ec0-9d88-d021c49b130d",
   "metadata": {},
   "source": [
    "##### Queremos conocer l@s tutor@s encargad@s de estas áreas.\n",
    "\n",
    "Vemos entonces que esta información coincide con los valores del diccionario, de modo que podemos usar el siguiente comando:"
   ]
  },
  {
   "cell_type": "code",
   "execution_count": 15,
   "id": "a48db7ec-d218-4bc8-82de-36e0a6fe437e",
   "metadata": {},
   "outputs": [
    {
     "name": "stdout",
     "output_type": "stream",
     "text": [
      "dict_values(['Andrés Salas', 'Camila Flórez', 'Daniel Murillo', 'Paulina Castillo', 'Jean Pierre Cifuentes'])\n"
     ]
    }
   ],
   "source": [
    "print(DictGEA.values())"
   ]
  },
  {
   "cell_type": "markdown",
   "id": "c54657ba-1f79-40c0-96f3-15a473e78270",
   "metadata": {},
   "source": [
    "##### La directora de GEA se da cuenta que así el área de Modelación sea del área de Ciencias, sus tutor@s pertenecen a la Facultad de Ciencias Económicas, de modo que, como necesita hacer una actividad solo con l@s tutor@s que pertenecen a la Facultad de Ciencias, necesita eliminar al tutor representante del área de Modelación y al área misma, pero necesita saber qué tutor está dejando por fuera.\n",
    "\n",
    "Para eliminar un elemento, y su clave, del diccionario pero saber qué estamos eliminando, que es lo que precisamos, podemos usar el siguiente comando:"
   ]
  },
  {
   "cell_type": "code",
   "execution_count": 16,
   "id": "7bfed37a-dba5-4619-b153-4ad3e5327175",
   "metadata": {},
   "outputs": [
    {
     "name": "stdout",
     "output_type": "stream",
     "text": [
      "Daniel Murillo\n",
      "{'Estadística': 'Andrés Salas', 'Química': 'Camila Flórez', 'Matemáticas': 'Paulina Castillo', 'Física': 'Jean Pierre Cifuentes'}\n"
     ]
    }
   ],
   "source": [
    "print(DictGEA.pop('Modelación Estática y Dinámica'))\n",
    "print(DictGEA)"
   ]
  },
  {
   "cell_type": "markdown",
   "id": "709def45-c2e0-4085-98c3-ceef4586703b",
   "metadata": {},
   "source": [
    "##### Ahora, se requiere escoger de manera aleatoria a un/una tutor/a en específico para una tarea especial pero teniendo en cuenta que por hacer esta tarea, es necesario apartarl@ del grupo para que no tenga labores de más.\n",
    "\n",
    "Para cumplir con esta particular tarea, podemos usar el siguiente comando:"
   ]
  },
  {
   "cell_type": "code",
   "execution_count": 17,
   "id": "2dae39f8-b654-4319-a824-663d1fe28f9b",
   "metadata": {},
   "outputs": [
    {
     "name": "stdout",
     "output_type": "stream",
     "text": [
      "('Física', 'Jean Pierre Cifuentes')\n",
      "{'Estadística': 'Andrés Salas', 'Química': 'Camila Flórez', 'Matemáticas': 'Paulina Castillo'}\n"
     ]
    }
   ],
   "source": [
    "print(DictGEA.popitem())\n",
    "print(DictGEA)"
   ]
  },
  {
   "cell_type": "markdown",
   "id": "a6d9999d-92e1-4ff5-90e1-f9d7316b14e1",
   "metadata": {},
   "source": [
    "##### Días antes de la actividad, le comunican a la directora que es importante que un/a tutor/a de Comunicación Oral debe asistir, de modo que se elige a Angie Ávila y, por otro lado, también le comentan que Camila Flórez no puede asistir, de modo que, Leonardo Tinjacá, otro tutor de Química, la reemplazará. Luego, se tiene que hacer esta actualización.\n",
    "\n",
    "Para llevar a cabo esta actualización, necesitamos usar los siguientes comandos:"
   ]
  },
  {
   "cell_type": "code",
   "execution_count": 18,
   "id": "0d28c2c8-63f4-4e55-a83c-d214b85d74ba",
   "metadata": {},
   "outputs": [
    {
     "name": "stdout",
     "output_type": "stream",
     "text": [
      "{'Estadística': 'Andrés Salas', 'Química': 'Leonardo Tinjacá', 'Matemáticas': 'Paulina Castillo', 'Comunicación Oral': 'Angie Ávila'}\n"
     ]
    }
   ],
   "source": [
    "DictGEANuevxs = dict([( 'Comunicación Oral', 'Angie Ávila'),\n",
    "                ( 'Química', 'Leonardo Tinjacá'),\n",
    "                ])\n",
    "\n",
    "DictGEA.update(DictGEANuevxs)\n",
    "print(DictGEA)"
   ]
  },
  {
   "cell_type": "markdown",
   "id": "a48234d5-dc49-4e67-baec-7a7389e6f93a",
   "metadata": {},
   "source": [
    "#### Punto 4\n",
    "\n",
    "Escriba un cuadernos en donde implemente  una clase  iterable  que haga lo siguiente: \n",
    "\n",
    "    a) Al inicio abra el archivo y lo suba a un dataframe de Pandas.\n",
    "    b) Entregue la información de la siguiente cuenta cuando se le pida el siguiente dato.\n"
   ]
  },
  {
   "cell_type": "code",
   "execution_count": 21,
   "id": "3c3e65c5-3d26-4be2-b529-e668af095d7b",
   "metadata": {},
   "outputs": [],
   "source": [
    "path = 'https://raw.githubusercontent.com/Asalasa34/PLN_y_AprendizajeReforzado/main/PLN1.csv'"
   ]
  },
  {
   "cell_type": "code",
   "execution_count": 48,
   "id": "ac3db963-02cf-413a-8ba7-d85eae799185",
   "metadata": {},
   "outputs": [],
   "source": [
    "import pandas\n",
    "\n",
    "class Cuentas:\n",
    "    \n",
    "    MIN_SALDO = -10000 \n",
    "    \n",
    "    def __init__(self, No_Cuenta, Nombre, Ult_Transaccion, Saldo_Actual=0):\n",
    "        self.Nombre = Nombre    \n",
    "        self.No_cuenta = No_Cuenta\n",
    "        self.Ult_Transaccion = Ult_Transaccion\n",
    "        if Saldo_Actual < self.MIN_SALDO:\n",
    "            raise ValueError(\"¡Saldo muy pequeño!\")\n",
    "        else:\n",
    "            self.Saldo_Actual = Saldo_Actual\n",
    "    \n",
    "    @classmethod\n",
    "    def from_pandas(cls, filepath):\n",
    "            Data = pandas.read_csv(filepath)\n",
    "            return Data"
   ]
  },
  {
   "cell_type": "code",
   "execution_count": 49,
   "id": "ec87b235-c2bd-49ad-b465-1dfba0a1ce70",
   "metadata": {},
   "outputs": [
    {
     "data": {
      "text/html": [
       "<div>\n",
       "<style scoped>\n",
       "    .dataframe tbody tr th:only-of-type {\n",
       "        vertical-align: middle;\n",
       "    }\n",
       "\n",
       "    .dataframe tbody tr th {\n",
       "        vertical-align: top;\n",
       "    }\n",
       "\n",
       "    .dataframe thead th {\n",
       "        text-align: right;\n",
       "    }\n",
       "</style>\n",
       "<table border=\"1\" class=\"dataframe\">\n",
       "  <thead>\n",
       "    <tr style=\"text-align: right;\">\n",
       "      <th></th>\n",
       "      <th>No_Cuenta</th>\n",
       "      <th>Nombre</th>\n",
       "      <th>Saldo_Actual</th>\n",
       "      <th>Ult_Transaccion</th>\n",
       "    </tr>\n",
       "  </thead>\n",
       "  <tbody>\n",
       "    <tr>\n",
       "      <th>0</th>\n",
       "      <td>7476957</td>\n",
       "      <td>Natalia</td>\n",
       "      <td>693658</td>\n",
       "      <td>30/08/2022</td>\n",
       "    </tr>\n",
       "    <tr>\n",
       "      <th>1</th>\n",
       "      <td>2910381</td>\n",
       "      <td>Dana</td>\n",
       "      <td>1326093</td>\n",
       "      <td>20/07/2022</td>\n",
       "    </tr>\n",
       "    <tr>\n",
       "      <th>2</th>\n",
       "      <td>5673342</td>\n",
       "      <td>Álvaro</td>\n",
       "      <td>900</td>\n",
       "      <td>12/01/2022</td>\n",
       "    </tr>\n",
       "    <tr>\n",
       "      <th>3</th>\n",
       "      <td>7401782</td>\n",
       "      <td>Andrés</td>\n",
       "      <td>9086532</td>\n",
       "      <td>09/05/2022</td>\n",
       "    </tr>\n",
       "  </tbody>\n",
       "</table>\n",
       "</div>"
      ],
      "text/plain": [
       "   No_Cuenta   Nombre  Saldo_Actual Ult_Transaccion\n",
       "0    7476957  Natalia        693658      30/08/2022\n",
       "1    2910381     Dana       1326093      20/07/2022\n",
       "2    5673342   Álvaro           900      12/01/2022\n",
       "3    7401782   Andrés       9086532      09/05/2022"
      ]
     },
     "execution_count": 49,
     "metadata": {},
     "output_type": "execute_result"
    }
   ],
   "source": [
    "Cuentas.from_pandas(path)"
   ]
  },
  {
   "cell_type": "markdown",
   "id": "fd2aa365-bd5a-477b-a8e4-42caf7429754",
   "metadata": {},
   "source": [
    "Así entonces, obtuvimos la manera de que nuestra clase nos lea directamente el archivo. No obstante, miremos cómo podemos hacer para que nos quede la clase con el atributo completo que arroje tanto el Data Frame como cada cuenta una por una."
   ]
  },
  {
   "cell_type": "code",
   "execution_count": 77,
   "id": "56bcb4e8-525d-432f-a561-d32c1a3da73f",
   "metadata": {},
   "outputs": [],
   "source": [
    "import pandas\n",
    "\n",
    "class Cuentas:\n",
    "    \n",
    "    MIN_SALDO = -10000 \n",
    "    \n",
    "    def __init__(self, No_Cuenta, Nombre, Ult_Transaccion, Saldo_Actual=0):\n",
    "        self.Nombre = Nombre    \n",
    "        self.No_cuenta = No_Cuenta\n",
    "        self.Ult_Transaccion = Ult_Transaccion\n",
    "        if Saldo_Actual < self.MIN_SALDO:\n",
    "            raise ValueError(\"¡Saldo muy pequeño!\")\n",
    "        else:\n",
    "            self.Saldo_Actual = Saldo_Actual\n",
    "    \n",
    "    @classmethod\n",
    "    def siguiente(cls, Datos):\n",
    "            Data = pandas.read_csv(Datos)\n",
    "            for i in range(len(Data)):\n",
    "                fila_i = Data.iloc[i]\n",
    "                print(fila_i)\n",
    "            return Data"
   ]
  },
  {
   "cell_type": "code",
   "execution_count": 78,
   "id": "7a3ad58c-ed9a-4972-99ed-98b3136a4279",
   "metadata": {},
   "outputs": [
    {
     "name": "stdout",
     "output_type": "stream",
     "text": [
      "No_Cuenta             7476957\n",
      "Nombre                Natalia\n",
      "Saldo_Actual           693658\n",
      "Ult_Transaccion    30/08/2022\n",
      "Name: 0, dtype: object\n",
      "No_Cuenta             2910381\n",
      "Nombre                   Dana\n",
      "Saldo_Actual          1326093\n",
      "Ult_Transaccion    20/07/2022\n",
      "Name: 1, dtype: object\n",
      "No_Cuenta             5673342\n",
      "Nombre                 Álvaro\n",
      "Saldo_Actual              900\n",
      "Ult_Transaccion    12/01/2022\n",
      "Name: 2, dtype: object\n",
      "No_Cuenta             7401782\n",
      "Nombre                 Andrés\n",
      "Saldo_Actual          9086532\n",
      "Ult_Transaccion    09/05/2022\n",
      "Name: 3, dtype: object\n"
     ]
    },
    {
     "data": {
      "text/html": [
       "<div>\n",
       "<style scoped>\n",
       "    .dataframe tbody tr th:only-of-type {\n",
       "        vertical-align: middle;\n",
       "    }\n",
       "\n",
       "    .dataframe tbody tr th {\n",
       "        vertical-align: top;\n",
       "    }\n",
       "\n",
       "    .dataframe thead th {\n",
       "        text-align: right;\n",
       "    }\n",
       "</style>\n",
       "<table border=\"1\" class=\"dataframe\">\n",
       "  <thead>\n",
       "    <tr style=\"text-align: right;\">\n",
       "      <th></th>\n",
       "      <th>No_Cuenta</th>\n",
       "      <th>Nombre</th>\n",
       "      <th>Saldo_Actual</th>\n",
       "      <th>Ult_Transaccion</th>\n",
       "    </tr>\n",
       "  </thead>\n",
       "  <tbody>\n",
       "    <tr>\n",
       "      <th>0</th>\n",
       "      <td>7476957</td>\n",
       "      <td>Natalia</td>\n",
       "      <td>693658</td>\n",
       "      <td>30/08/2022</td>\n",
       "    </tr>\n",
       "    <tr>\n",
       "      <th>1</th>\n",
       "      <td>2910381</td>\n",
       "      <td>Dana</td>\n",
       "      <td>1326093</td>\n",
       "      <td>20/07/2022</td>\n",
       "    </tr>\n",
       "    <tr>\n",
       "      <th>2</th>\n",
       "      <td>5673342</td>\n",
       "      <td>Álvaro</td>\n",
       "      <td>900</td>\n",
       "      <td>12/01/2022</td>\n",
       "    </tr>\n",
       "    <tr>\n",
       "      <th>3</th>\n",
       "      <td>7401782</td>\n",
       "      <td>Andrés</td>\n",
       "      <td>9086532</td>\n",
       "      <td>09/05/2022</td>\n",
       "    </tr>\n",
       "  </tbody>\n",
       "</table>\n",
       "</div>"
      ],
      "text/plain": [
       "   No_Cuenta   Nombre  Saldo_Actual Ult_Transaccion\n",
       "0    7476957  Natalia        693658      30/08/2022\n",
       "1    2910381     Dana       1326093      20/07/2022\n",
       "2    5673342   Álvaro           900      12/01/2022\n",
       "3    7401782   Andrés       9086532      09/05/2022"
      ]
     },
     "execution_count": 78,
     "metadata": {},
     "output_type": "execute_result"
    }
   ],
   "source": [
    "Cuentas.siguiente(path)"
   ]
  }
 ],
 "metadata": {
  "kernelspec": {
   "display_name": "Python 3 (ipykernel)",
   "language": "python",
   "name": "python3"
  },
  "language_info": {
   "codemirror_mode": {
    "name": "ipython",
    "version": 3
   },
   "file_extension": ".py",
   "mimetype": "text/x-python",
   "name": "python",
   "nbconvert_exporter": "python",
   "pygments_lexer": "ipython3",
   "version": "3.10.5"
  }
 },
 "nbformat": 4,
 "nbformat_minor": 5
}
